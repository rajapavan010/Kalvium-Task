{
 "cells": [
  {
   "cell_type": "code",
   "execution_count": 1,
   "id": "fa00d270",
   "metadata": {},
   "outputs": [],
   "source": [
    "from bs4 import BeautifulSoup\n",
    "import requests"
   ]
  },
  {
   "cell_type": "code",
   "execution_count": 2,
   "id": "bc079e66",
   "metadata": {},
   "outputs": [],
   "source": [
    "url = 'https://results.eci.gov.in/PcResultGenJune2024/partywiseresult-S27.htm'\n",
    "page_request = requests.get(url)\n",
    "soup_elements= BeautifulSoup(page_request.text, 'html')"
   ]
  },
  {
   "cell_type": "code",
   "execution_count": 3,
   "id": "7ea82d1e",
   "metadata": {},
   "outputs": [],
   "source": [
    "print(soup_elements)"
   ]
  },
  {
   "cell_type": "code",
   "execution_count": 4,
   "id": "2360edf0",
   "metadata": {},
   "outputs": [],
   "source": [
    "soup_elements.find_all('table')"
   ]
  },
  {
   "cell_type": "code",
   "execution_count": 5,
   "id": "39d7119d",
   "metadata": {},
   "outputs": [],
   "source": [
    "soup_elements.find_all('table', class_ = 'table')"
   ]
  },
  {
   "cell_type": "code",
   "execution_count": 6,
   "id": "c5d59900",
   "metadata": {},
   "outputs": [],
   "source": [
    "election_table = soup_elements.find_all('table')"
   ]
  },
  {
   "cell_type": "code",
   "execution_count": 7,
   "id": "cad1e19a",
   "metadata": {},
   "outputs": [],
   "source": [
    "print(election_table)"
   ]
  },
  {
   "cell_type": "code",
   "execution_count": 8,
   "id": "e2ebdd61",
   "metadata": {},
   "outputs": [],
   "source": [
    "for element in election_table:\n",
    "    headers = element.find_all('th')"
   ]
  },
  {
   "cell_type": "code",
   "execution_count": 9,
   "id": "43dd0f04",
   "metadata": {},
   "outputs": [],
   "source": [
    "# Assuming headers is a list or a similar iterable\n",
    "header_0 = headers[0]\n",
    "header_1 = headers[1]\n",
    "header_2 = headers[2]\n",
    "header_3 = headers[3]\n",
    "\n",
    "# Or, you can access them in one go using a tuple of indices\n",
    "selected_headers_from_tabel = [headers[i] for i in [0, 1, 2, 3]]\n",
    "\n",
    "# Print or use selected headers as needed\n",
    "print(selected_headers_from_tabel)"
   ]
  },
  {
   "cell_type": "code",
   "execution_count": 10,
   "id": "77ebc0f8",
   "metadata": {},
   "outputs": [],
   "source": [
    "attributes = [title.text.strip() for title in selected_headers_from_tabel]\n",
    "\n",
    "print(attributes)"
   ]
  },
  {
   "cell_type": "code",
   "execution_count": 11,
   "id": "0aa45554",
   "metadata": {},
   "outputs": [],
   "source": [
    "import pandas as pd"
   ]
  },
  {
   "cell_type": "code",
   "execution_count": 12,
   "id": "cc03b86a",
   "metadata": {},
   "outputs": [],
   "source": [
    "df = pd.DataFrame(columns = attributes)\n",
    "df"
   ]
  },
  {
   "cell_type": "code",
   "execution_count": 13,
   "id": "bd8e228f",
   "metadata": {},
   "outputs": [],
   "source": [
    "for element in election_table:\n",
    "    column_data = element.find_all('tr')"
   ]
  },
  {
   "cell_type": "code",
   "execution_count": 14,
   "id": "59c0d8c2",
   "metadata": {},
   "outputs": [],
   "source": [
    "for row in column_data[1:-1]:  # Exclude the last row\n",
    "    row_data = row.find_all('td')\n",
    "    individual_row_data = [data.text.strip() for data in row_data]\n",
    "    length = len(df)\n",
    "    df.loc[length] = individual_row_data"
   ]
  },
  {
   "cell_type": "code",
   "execution_count": 15,
   "id": "021bf144",
   "metadata": {},
   "outputs": [],
   "source": [
    "df"
   ]
  },
  {
   "cell_type": "code",
   "execution_count": 16,
   "id": "c8a173f0",
   "metadata": {},
   "outputs": [],
   "source": [
    "existing_data = pd.read_csv('lok_sabha_election_results.csv')\n",
    "\n",
    "# Create two empty rows as a DataFrame\n",
    "empty_rows = pd.DataFrame([[\"\"] * len(existing_data.columns)] * 2, columns=existing_data.columns)\n",
    "\n",
    "# Concatenate the existing data, empty rows, and new data\n",
    "final_data = pd.concat([existing_data, empty_rows, df], ignore_index=True)\n",
    "\n",
    "# Save the updated DataFrame back to the CSV file\n",
    "final_data.to_csv('lok_sabha_election_results.csv', index=False)"
   ]
  }
 ],
 "metadata": {
  "kernelspec": {
   "display_name": "Python 3 (ipykernel)",
   "language": "python",
   "name": "python3"
  },
  "language_info": {
   "codemirror_mode": {
    "name": "ipython",
    "version": 3
   },
   "file_extension": ".py",
   "mimetype": "text/x-python",
   "name": "python",
   "nbconvert_exporter": "python",
   "pygments_lexer": "ipython3",
   "version": "3.11.3"
  }
 },
 "nbformat": 4,
 "nbformat_minor": 5
}
